{
  "cells": [
    {
      "cell_type": "code",
      "execution_count": null,
      "metadata": {},
      "outputs": [],
      "source": []
    },
    {
      "cell_type": "code",
      "execution_count": 7,
      "metadata": {
        "id": "dEWxmkWc48Lz"
      },
      "outputs": [
        {
          "name": "stdout",
          "output_type": "stream",
          "text": [
            "----------------------- GIOCO DELL'IMPICCATO ----------------------- \n",
            "\n",
            "La lunghezza della parola\n",
            "_ _ _ _ \n",
            "\n",
            "La lettera ' c ' è presente\n"
          ]
        },
        {
          "ename": "AttributeError",
          "evalue": "'str' object has no attribute 'append'",
          "output_type": "error",
          "traceback": [
            "\u001b[0;31m---------------------------------------------------------------------------\u001b[0m",
            "\u001b[0;31mAttributeError\u001b[0m                            Traceback (most recent call last)",
            "\u001b[1;32m/workspaces/eserciziphyton/esercizi/impiccato.ipynb Cella 2\u001b[0m line \u001b[0;36m2\n\u001b[1;32m     <a href='vscode-notebook-cell://codespaces%2Bcautious-acorn-979vwx5qgxj439vj4/workspaces/eserciziphyton/esercizi/impiccato.ipynb#W1sdnNjb2RlLXJlbW90ZQ%3D%3D?line=24'>25</a>\u001b[0m     \u001b[39mif\u001b[39;00m lettera \u001b[39min\u001b[39;00m parola[a]:\n\u001b[1;32m     <a href='vscode-notebook-cell://codespaces%2Bcautious-acorn-979vwx5qgxj439vj4/workspaces/eserciziphyton/esercizi/impiccato.ipynb#W1sdnNjb2RlLXJlbW90ZQ%3D%3D?line=25'>26</a>\u001b[0m         \u001b[39mdel\u001b[39;00m salva_lettere[a]\n\u001b[0;32m---> <a href='vscode-notebook-cell://codespaces%2Bcautious-acorn-979vwx5qgxj439vj4/workspaces/eserciziphyton/esercizi/impiccato.ipynb#W1sdnNjb2RlLXJlbW90ZQ%3D%3D?line=26'>27</a>\u001b[0m         salva_lettere[a]\u001b[39m.\u001b[39;49mappend(lettera)\n\u001b[1;32m     <a href='vscode-notebook-cell://codespaces%2Bcautious-acorn-979vwx5qgxj439vj4/workspaces/eserciziphyton/esercizi/impiccato.ipynb#W1sdnNjb2RlLXJlbW90ZQ%3D%3D?line=27'>28</a>\u001b[0m \u001b[39mprint\u001b[39m(salva_lettere)\n\u001b[1;32m     <a href='vscode-notebook-cell://codespaces%2Bcautious-acorn-979vwx5qgxj439vj4/workspaces/eserciziphyton/esercizi/impiccato.ipynb#W1sdnNjb2RlLXJlbW90ZQ%3D%3D?line=28'>29</a>\u001b[0m \u001b[39mprint\u001b[39m(\u001b[39m\"\u001b[39m\u001b[39m\\n\u001b[39;00m\u001b[39m\"\u001b[39m)\n",
            "\u001b[0;31mAttributeError\u001b[0m: 'str' object has no attribute 'append'"
          ]
        }
      ],
      "source": [
        "# Es 8.1 Creare il gioco dell'impiccato\n",
        "# Suggerimento: per controllare se la lettera 'a' è presente all'interno della parola 'casa' si può usare:\n",
        "#\n",
        "# if 'a' in 'casa':\n",
        "#   print('Presente')\n",
        "\n",
        "parola = list(input(\"Inserisci una parola: \"))                                  # parola inserita dell'utente 1 (lista)\n",
        "tentativi = int(input(\"Inserisci il numero di tentativi disponibili: \"))        # numero di tentativi che ha l'utente 2\n",
        "\n",
        "print(\"----------------------- GIOCO DELL'IMPICCATO ----------------------- \\n\")\n",
        "print(\"La lunghezza della parola\")\n",
        "for lettera in parola:\n",
        "    print(\"_\", end= \" \")\n",
        "print(\"\\n\")\n",
        "while tentativi != 0:\n",
        "    lettera = input(\"Inserisci una lettera: \")\n",
        "    if lettera in parola:\n",
        "        print(\"La lettera '\", lettera, \"' è presente\") \n",
        "    else:\n",
        "        print(\"La lettera '\", lettera, \"' NON è presente\") \n",
        "        tentativi = tentativi - 1\n",
        "\n",
        "    salva_lettere = [\"_ \" for b in range(len(parola))]                                                     # lista vuota per salvarmi le lettere presenti\n",
        "    for a in range (len(parola)):\n",
        "        if lettera in parola[a]:\n",
        "            salva_lettere[a] = lettera\n",
        "    print(salva_lettere)\n",
        "    print(\"\\n\")"
      ]
    }
  ],
  "metadata": {
    "colab": {
      "provenance": []
    },
    "kernelspec": {
      "display_name": "Python 3",
      "name": "python3"
    },
    "language_info": {
      "codemirror_mode": {
        "name": "ipython",
        "version": 3
      },
      "file_extension": ".py",
      "mimetype": "text/x-python",
      "name": "python",
      "nbconvert_exporter": "python",
      "pygments_lexer": "ipython3",
      "version": "3.10.8"
    }
  },
  "nbformat": 4,
  "nbformat_minor": 0
}
