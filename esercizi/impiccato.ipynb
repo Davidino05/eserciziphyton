{
  "cells": [
    {
      "cell_type": "code",
      "execution_count": null,
      "metadata": {},
      "outputs": [],
      "source": []
    },
    {
      "cell_type": "code",
      "execution_count": 1,
      "metadata": {
        "id": "dEWxmkWc48Lz"
      },
      "outputs": [
        {
          "name": "stdout",
          "output_type": "stream",
          "text": [
            "-------------------------------- GIOCO DELL'IMPICCATO -------------------------------- \n",
            "\n",
            "_  _  _  _  \n",
            "\n",
            "Presente c\n",
            "Assente h\n",
            "Assente f\n",
            "Assente 5\n"
          ]
        }
      ],
      "source": [
        "# Es 8.1 Creare il gioco dell'impiccato\n",
        "# Suggerimento: per controllare se la lettera 'a' è presente all'interno della parola 'casa' si può usare:\n",
        "#\n",
        "# if 'a' in 'casa':\n",
        "#   print('Presente')\n",
        "\n",
        "parola = str(input(\"Inserisci una parola: \"))                                   # parola inserita dell'utente 1\n",
        "tentativi = int(input(\"Inserisci il numero di tentativi disponibili: \"))        # numero di tentativi che ha l'utente 2\n",
        "\n",
        "print(\"-------------------------------- GIOCO DELL'IMPICCATO --------------------------------\", \"\\n\")\n",
        "for lettera in parola:\n",
        "    print(\"_ \", end= \" \")\n",
        "print(\"\\n\")\n",
        "for a in range(tentativi):\n",
        "    lettera = str(input(\"Inserisci una lettera: \"))\n",
        "    if lettera in parola:\n",
        "        print(\"Presente\", lettera)\n",
        "    else:\n",
        "        print(\"Assente\", lettera)\n",
        "\n"
      ]
    }
  ],
  "metadata": {
    "colab": {
      "provenance": []
    },
    "kernelspec": {
      "display_name": "Python 3",
      "name": "python3"
    },
    "language_info": {
      "codemirror_mode": {
        "name": "ipython",
        "version": 3
      },
      "file_extension": ".py",
      "mimetype": "text/x-python",
      "name": "python",
      "nbconvert_exporter": "python",
      "pygments_lexer": "ipython3",
      "version": "3.10.8"
    }
  },
  "nbformat": 4,
  "nbformat_minor": 0
}
