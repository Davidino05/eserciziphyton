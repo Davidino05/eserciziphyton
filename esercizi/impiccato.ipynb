{
  "cells": [
    {
      "cell_type": "code",
      "execution_count": null,
      "metadata": {},
      "outputs": [],
      "source": []
    },
    {
      "cell_type": "code",
      "execution_count": 6,
      "metadata": {
        "id": "dEWxmkWc48Lz"
      },
      "outputs": [
        {
          "name": "stdout",
          "output_type": "stream",
          "text": [
            "----------------------- GIOCO DELL'IMPICCATO ----------------------- \n",
            "\n",
            "La lunghezza della parola\n",
            "_ _ _ _ \n",
            "\n"
          ]
        },
        {
          "ename": "TypeError",
          "evalue": "'str' object cannot be interpreted as an integer",
          "output_type": "error",
          "traceback": [
            "\u001b[0;31m---------------------------------------------------------------------------\u001b[0m",
            "\u001b[0;31mTypeError\u001b[0m                                 Traceback (most recent call last)",
            "\u001b[1;32m/workspaces/eserciziphyton/esercizi/impiccato.ipynb Cella 2\u001b[0m line \u001b[0;36m1\n\u001b[1;32m     <a href='vscode-notebook-cell://codespaces%2Bcautious-acorn-979vwx5qgxj439vj4/workspaces/eserciziphyton/esercizi/impiccato.ipynb#W1sdnNjb2RlLXJlbW90ZQ%3D%3D?line=14'>15</a>\u001b[0m \u001b[39mwhile\u001b[39;00m tentativi \u001b[39m!=\u001b[39m \u001b[39m0\u001b[39m:\n\u001b[1;32m     <a href='vscode-notebook-cell://codespaces%2Bcautious-acorn-979vwx5qgxj439vj4/workspaces/eserciziphyton/esercizi/impiccato.ipynb#W1sdnNjb2RlLXJlbW90ZQ%3D%3D?line=15'>16</a>\u001b[0m     n \u001b[39m=\u001b[39m \u001b[39m0\u001b[39m\n\u001b[0;32m---> <a href='vscode-notebook-cell://codespaces%2Bcautious-acorn-979vwx5qgxj439vj4/workspaces/eserciziphyton/esercizi/impiccato.ipynb#W1sdnNjb2RlLXJlbW90ZQ%3D%3D?line=16'>17</a>\u001b[0m     lettera \u001b[39m=\u001b[39m \u001b[39mchr\u001b[39;49m(\u001b[39minput\u001b[39;49m(\u001b[39m\"\u001b[39;49m\u001b[39mInserisci una lettera: \u001b[39;49m\u001b[39m\"\u001b[39;49m))\n\u001b[1;32m     <a href='vscode-notebook-cell://codespaces%2Bcautious-acorn-979vwx5qgxj439vj4/workspaces/eserciziphyton/esercizi/impiccato.ipynb#W1sdnNjb2RlLXJlbW90ZQ%3D%3D?line=17'>18</a>\u001b[0m     \u001b[39mfor\u001b[39;00m n \u001b[39min\u001b[39;00m parola:\n\u001b[1;32m     <a href='vscode-notebook-cell://codespaces%2Bcautious-acorn-979vwx5qgxj439vj4/workspaces/eserciziphyton/esercizi/impiccato.ipynb#W1sdnNjb2RlLXJlbW90ZQ%3D%3D?line=18'>19</a>\u001b[0m         \u001b[39mif\u001b[39;00m parola[n] \u001b[39m==\u001b[39m lettera:\n",
            "\u001b[0;31mTypeError\u001b[0m: 'str' object cannot be interpreted as an integer"
          ]
        }
      ],
      "source": [
        "# Es 8.1 Creare il gioco dell'impiccato\n",
        "# Suggerimento: per controllare se la lettera 'a' è presente all'interno della parola 'casa' si può usare:\n",
        "#\n",
        "# if 'a' in 'casa':\n",
        "#   print('Presente')\n",
        "\n",
        "parola = list(input(\"Inserisci una parola: \"))                                   # parola inserita dell'utente 1\n",
        "tentativi = int(input(\"Inserisci il numero di tentativi disponibili: \"))        # numero di tentativi che ha l'utente 2\n",
        "\n",
        "print(\"----------------------- GIOCO DELL'IMPICCATO ----------------------- \\n\")\n",
        "print(\"La lunghezza della parola\")\n",
        "for lettera in parola:\n",
        "    print(\"_\", end= \" \")\n",
        "print(\"\\n\")\n",
        "while tentativi != 0:\n",
        "    n = 0\n",
        "    lettera = chr(input(\"Inserisci una lettera: \"))\n",
        "    for n in parola:\n",
        "        if parola[n] == lettera:\n",
        "            print(\"La lettera\", lettera, \"è presente \\n\") \n",
        "        else:\n",
        "            print(\"_\", end= \" \")"
      ]
    },
    {
      "cell_type": "code",
      "execution_count": null,
      "metadata": {},
      "outputs": [],
      "source": []
    }
  ],
  "metadata": {
    "colab": {
      "provenance": []
    },
    "kernelspec": {
      "display_name": "Python 3",
      "name": "python3"
    },
    "language_info": {
      "codemirror_mode": {
        "name": "ipython",
        "version": 3
      },
      "file_extension": ".py",
      "mimetype": "text/x-python",
      "name": "python",
      "nbconvert_exporter": "python",
      "pygments_lexer": "ipython3",
      "version": "3.10.8"
    }
  },
  "nbformat": 4,
  "nbformat_minor": 0
}
