{
  "cells": [
    {
      "cell_type": "code",
      "execution_count": 5,
      "metadata": {
        "id": "dEWxmkWc48Lz"
      },
      "outputs": [
        {
          "name": "stdout",
          "output_type": "stream",
          "text": [
            "----------------------- GIOCO DELL'IMPICCATO ----------------------- \n",
            "\n",
            "La lunghezza della parola\n",
            "_ _ _ _ _ _ _ _ _ \n",
            "\n",
            "La lettera ' i ' è presente\n",
            "['i', ' ', ' ', 'i', ' ', ' ', ' ', ' ', ' ']\n",
            "La lettera ' m ' è presente\n",
            "['i', 'm', ' ', 'i', ' ', ' ', ' ', ' ', ' ']\n",
            "La lettera ' p ' è presente\n",
            "['i', 'm', 'p', 'i', ' ', ' ', ' ', ' ', ' ']\n",
            "La lettera ' c ' è presente\n",
            "['i', 'm', 'p', 'i', 'c', 'c', ' ', ' ', ' ']\n",
            "La lettera ' a ' è presente\n",
            "['i', 'm', 'p', 'i', 'c', 'c', 'a', ' ', ' ']\n",
            "La lettera ' y ' NON è presente\n",
            "['i', 'm', 'p', 'i', 'c', 'c', 'a', ' ', ' ']\n",
            "La lettera ' t ' è presente\n",
            "['i', 'm', 'p', 'i', 'c', 'c', 'a', 't', ' ']\n",
            "La lettera ' l ' NON è presente\n",
            "['i', 'm', 'p', 'i', 'c', 'c', 'a', 't', ' ']\n",
            "La lettera ' o ' è presente\n",
            "['i', 'm', 'p', 'i', 'c', 'c', 'a', 't', 'o']\n",
            "Congratulazioni! Hai completato il gioco avanzando 1 tentativi!\n",
            "['i', 'm', 'p', 'i', 'c', 'c', 'a', 't', 'o']\n"
          ]
        }
      ],
      "source": [
        "# Es 8.1 Creare il gioco dell'impiccato\n",
        "# Suggerimento: per controllare se la lettera 'a' è presente all'interno della parola 'casa' si può usare:\n",
        "#\n",
        "# if 'a' in 'casa':\n",
        "#   print('Presente')\n",
        "\n",
        "parola = list(input(\"Inserisci una parola: \"))                                  # parola inserita dell'utente 1 (lista)\n",
        "tentativi = int(input(\"Inserisci il numero di tentativi disponibili: \"))        # numero di tentativi che ha l'utente 2\n",
        "salva_lettere = [\" \" for b in range(len(parola))]                               # lista vuota per salvarmi le lettere presenti\n",
        "\n",
        "print(\"----------------------- GIOCO DELL'IMPICCATO ----------------------- \\n\")\n",
        "print(\"La lunghezza della parola\")\n",
        "for lettera in parola:\n",
        "    print(\"_\", end= \" \")\n",
        "print(\"\\n\")\n",
        "while tentativi != 0:\n",
        "    if salva_lettere == parola:\n",
        "        print(\"Congratulazioni! Hai completato il gioco avanzando\", tentativi, \"tentativo/i!\")\n",
        "        tentativi = 0\n",
        "    else:\n",
        "        lettera = input(\"Inserisci una lettera: \")\n",
        "        if lettera in parola:\n",
        "            print(\"La lettera '\", lettera, \"' è presente\") \n",
        "        else:\n",
        "            print(\"La lettera '\", lettera, \"' NON è presente\") \n",
        "            tentativi = tentativi - 1\n",
        "                                   \n",
        "    for a in range (len(parola)):\n",
        "        if lettera in parola[a]:\n",
        "            salva_lettere[a] = lettera\n",
        "    print(salva_lettere)"
      ]
    }
  ],
  "metadata": {
    "colab": {
      "provenance": []
    },
    "kernelspec": {
      "display_name": "Python 3",
      "name": "python3"
    },
    "language_info": {
      "codemirror_mode": {
        "name": "ipython",
        "version": 3
      },
      "file_extension": ".py",
      "mimetype": "text/x-python",
      "name": "python",
      "nbconvert_exporter": "python",
      "pygments_lexer": "ipython3",
      "version": "3.10.8"
    }
  },
  "nbformat": 4,
  "nbformat_minor": 0
}
