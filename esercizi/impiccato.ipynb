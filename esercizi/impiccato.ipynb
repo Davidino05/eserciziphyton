{
  "cells": [
    {
      "cell_type": "code",
      "execution_count": null,
      "metadata": {},
      "outputs": [],
      "source": []
    },
    {
      "cell_type": "code",
      "execution_count": 10,
      "metadata": {
        "id": "dEWxmkWc48Lz"
      },
      "outputs": [
        {
          "name": "stdout",
          "output_type": "stream",
          "text": [
            "----------------------- GIOCO DELL'IMPICCATO ----------------------- \n",
            "\n",
            "La lunghezza della parola\n",
            "_ _ _ _ \n",
            "\n",
            "La lettera ' g ' NON è presente\n",
            "['_', '_', '_', '_']\n",
            "La lettera ' c ' è presente\n",
            "['c', '_', '_', '_']\n",
            "La lettera ' o ' è presente\n",
            "['_', '_', '_', 'o']\n",
            "La lettera ' ciao ' NON è presente\n",
            "['_', '_', '_', '_']\n"
          ]
        }
      ],
      "source": [
        "# Es 8.1 Creare il gioco dell'impiccato\n",
        "# Suggerimento: per controllare se la lettera 'a' è presente all'interno della parola 'casa' si può usare:\n",
        "#\n",
        "# if 'a' in 'casa':\n",
        "#   print('Presente')\n",
        "\n",
        "parola = list(input(\"Inserisci una parola: \"))                                  # parola inserita dell'utente 1 (lista)\n",
        "tentativi = int(input(\"Inserisci il numero di tentativi disponibili: \"))        # numero di tentativi che ha l'utente 2\n",
        "\n",
        "print(\"----------------------- GIOCO DELL'IMPICCATO ----------------------- \\n\")\n",
        "print(\"La lunghezza della parola\")\n",
        "for lettera in parola:\n",
        "    print(\"_\", end= \" \")\n",
        "print(\"\\n\")\n",
        "while tentativi != 0:\n",
        "    if salva_lettere == parola:\n",
        "        print(\"Congratulazioni! Hai completato il gioco avanzando\", tentativi, \"tentativi!\")\n",
        "        tentativi = 0\n",
        "    else:\n",
        "        lettera = input(\"Inserisci una lettera: \")\n",
        "        if lettera in parola:\n",
        "            print(\"La lettera '\", lettera, \"' è presente\") \n",
        "        else:\n",
        "            print(\"La lettera '\", lettera, \"' NON è presente\") \n",
        "            tentativi = tentativi - 1\n",
        "            \n",
        "    salva_lettere = [\"_ \" for b in range(len(parola))]                                                     # lista vuota per salvarmi le lettere presenti\n",
        "    for a in range (len(parola)):\n",
        "        if lettera in parola[a]:\n",
        "            salva_lettere[a] = lettera\n",
        "        else:\n",
        "            salva_lettere[a] = \"_\"\n",
        "    print(salva_lettere)"
      ]
    }
  ],
  "metadata": {
    "colab": {
      "provenance": []
    },
    "kernelspec": {
      "display_name": "Python 3",
      "name": "python3"
    },
    "language_info": {
      "codemirror_mode": {
        "name": "ipython",
        "version": 3
      },
      "file_extension": ".py",
      "mimetype": "text/x-python",
      "name": "python",
      "nbconvert_exporter": "python",
      "pygments_lexer": "ipython3",
      "version": "3.10.8"
    }
  },
  "nbformat": 4,
  "nbformat_minor": 0
}
