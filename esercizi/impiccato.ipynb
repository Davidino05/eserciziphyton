{
  "cells": [
    {
      "cell_type": "code",
      "execution_count": null,
      "metadata": {},
      "outputs": [],
      "source": []
    },
    {
      "cell_type": "code",
      "execution_count": 21,
      "metadata": {
        "id": "dEWxmkWc48Lz"
      },
      "outputs": [
        {
          "name": "stdout",
          "output_type": "stream",
          "text": [
            "----------------------- GIOCO DELL'IMPICCATO ----------------------- \n",
            "\n",
            "La lunghezza della parola\n",
            "_ _ _ _ _ \n",
            "\n",
            "La lettera a è presente \n",
            "\n",
            "La lettera m è presente \n",
            "\n",
            "La lettera d NON è presente \n",
            "\n",
            "La lettera x NON è presente \n",
            "\n"
          ]
        }
      ],
      "source": [
        "# Es 8.1 Creare il gioco dell'impiccato\n",
        "# Suggerimento: per controllare se la lettera 'a' è presente all'interno della parola 'casa' si può usare:\n",
        "#\n",
        "# if 'a' in 'casa':\n",
        "#   print('Presente')\n",
        "\n",
        "parola = str(input(\"Inserisci una parola: \"))                                   # parola inserita dell'utente 1\n",
        "tentativi = int(input(\"Inserisci il numero di tentativi disponibili: \"))        # numero di tentativi che ha l'utente 2\n",
        "\n",
        "print(\"----------------------- GIOCO DELL'IMPICCATO ----------------------- \\n\")\n",
        "print(\"La lunghezza della parola\")\n",
        "for lettera in parola:\n",
        "    print(\"_\", end= \" \")\n",
        "print(\"\\n\")\n",
        "for a in range(tentativi):\n",
        "    lettera = str(input(\"Inserisci una lettera: \"))\n",
        "    if lettera in parola:                                                        # mi stampa la lettera dicendo che è presente nella parola\n",
        "        print(\"La lettera\", lettera, \"è presente \\n\")\n",
        "    else:                                                                        # mi stampa la lettera dicendo che non è presente nella parola\n",
        "        print(\"La lettera\", lettera, \"NON è presente \\n\")\n"
      ]
    }
  ],
  "metadata": {
    "colab": {
      "provenance": []
    },
    "kernelspec": {
      "display_name": "Python 3",
      "name": "python3"
    },
    "language_info": {
      "codemirror_mode": {
        "name": "ipython",
        "version": 3
      },
      "file_extension": ".py",
      "mimetype": "text/x-python",
      "name": "python",
      "nbconvert_exporter": "python",
      "pygments_lexer": "ipython3",
      "version": "3.10.8"
    }
  },
  "nbformat": 4,
  "nbformat_minor": 0
}
