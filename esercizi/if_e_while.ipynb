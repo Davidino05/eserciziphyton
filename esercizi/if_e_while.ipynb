{
  "cells": [
    {
      "cell_type": "markdown",
      "metadata": {
        "id": "HB3XbPDcSqe1"
      },
      "source": [
        "# Esercizi IF"
      ]
    },
    {
      "cell_type": "code",
      "execution_count": 2,
      "metadata": {
        "id": "0U7L9A29RfeT"
      },
      "outputs": [
        {
          "name": "stdout",
          "output_type": "stream",
          "text": [
            "Pari\n"
          ]
        }
      ],
      "source": [
        "# Es 4.1: Ottenere dall'utente un numero in input e scrivere a schermo \"Pari\" se il numero è pari, scrivere \"Dispari\" altrimenti\n",
        "x = int(input())             # inserire il valore di x come intero\n",
        "if x % 2 == 0:\n",
        "    print(\"Pari\")\n",
        "if x % 2 != 0:\n",
        "    print(\"Dispari\") "
      ]
    },
    {
      "cell_type": "code",
      "execution_count": 4,
      "metadata": {
        "id": "gE3RVr9ORuwP"
      },
      "outputs": [
        {
          "name": "stdout",
          "output_type": "stream",
          "text": [
            "Non e' un triangolo\n"
          ]
        }
      ],
      "source": [
        "# Es 4.2: Ottenere dall'utente tre angoli caso siano i tre angoli di un triangolo scrivere a schermo \"È un triangolo\", altrimenti \"Non è un triangolo\"\n",
        "x = float(input())          # inserire il primo valore dell'angolo\n",
        "y = float(input())          # inserire il secondo valore dell'angolo\n",
        "z = float(input())          # inserire il terzo valore dell'angolo\n",
        "\n",
        "if x + y + z == 180:\n",
        "    print(\"E' un triangolo\")\n",
        "else:\n",
        "    print(\"Non è un triangolo\")"
      ]
    },
    {
      "cell_type": "code",
      "execution_count": 7,
      "metadata": {
        "id": "r1A_DavcSKgi"
      },
      "outputs": [
        {
          "name": "stdout",
          "output_type": "stream",
          "text": [
            "E' un triangolo rettangolo\n"
          ]
        }
      ],
      "source": [
        "# Es 4.3: Ottenuti dall'utente tre angoli di un triangolo scrivere a schermo se i tre angoli descrivono un triangolo rettangolo o no\n",
        "x = float(input())          # inserire il primo valore dell'angolo\n",
        "y = float(input())          # inserire il secondo valore dell'angolo\n",
        "z = float(input())          # inserire il terzo valore dell'angolo\n",
        "\n",
        "if x + y + z == 180:\n",
        "    if x == 90 or y == 90 or z == 90:\n",
        "        print(\"E' un triangolo rettangolo\")\n",
        "    else:\n",
        "        print(\"Non è un triangolo rettangolo\")\n",
        "else:\n",
        "    print(\"Non è un triangolo\")"
      ]
    },
    {
      "cell_type": "code",
      "execution_count": 11,
      "metadata": {
        "id": "iA9D4X_GSims"
      },
      "outputs": [
        {
          "name": "stdout",
          "output_type": "stream",
          "text": [
            "Il triangolo è equiltero\n"
          ]
        }
      ],
      "source": [
        "# Es 4.4: Ottenuti dall'utente tre angoli di un triangolo scrivere a schermo se i tre angoli descrivono un triangolo equilatero o no\n",
        "x = float(input())          # inserire il primo valore dell'angolo\n",
        "y = float(input())          # inserire il secondo valore dell'angolo\n",
        "z = float(input())          # inserire il terzo valore dell'angolo\n",
        "\n",
        "if x + y + z == 180:\n",
        "    if x == y == z:\n",
        "        print(\"Il triangolo è equiltero\")\n",
        "    else:\n",
        "        print(\"Non è un triangolo equilatero\")\n",
        "else:\n",
        "    print(\"Non è un triangolo\")"
      ]
    },
    {
      "cell_type": "code",
      "execution_count": 14,
      "metadata": {
        "id": "8q4gadoTSU7J"
      },
      "outputs": [
        {
          "name": "stdout",
          "output_type": "stream",
          "text": [
            "Il triangolo non è isoscele\n"
          ]
        }
      ],
      "source": [
        "# Es 4.5: Ottenuti dall'utente tre angoli di un triangolo scrivere a schermo se i tre angoli descrivono un triangolo isocele o no\n",
        "x = float(input())          # inserire il primo valore dell'angolo\n",
        "y = float(input())          # inserire il secondo valore dell'angolo\n",
        "z = float(input())          # inserire il terzo valore dell'angolo\n",
        "\n",
        "if x + y + z == 180:\n",
        "    if x == y == z:\n",
        "        print(\"Il triangolo è isoscele equilatero\")\n",
        "    if x == y or x == z or y == z:\n",
        "        print(\"Il triangolo è isoscele\")\n",
        "    else:\n",
        "        print(\"Il triangolo non è isoscele\")\n",
        "else:\n",
        "    print(\"Non è un triangolo\")"
      ]
    },
    {
      "cell_type": "code",
      "execution_count": 21,
      "metadata": {
        "id": "yVIE2kK3SYlq"
      },
      "outputs": [
        {
          "name": "stdout",
          "output_type": "stream",
          "text": [
            "Il triangolo è scaleno\n"
          ]
        }
      ],
      "source": [
        "# Es 4.6: Ottenuti dall'utente tre angoli di un triangolo scrivere a schermo se i tre angoli descrivono un triangolo isocele, rettagolo, equilatero o scaleno\n",
        "x = float(input())          # inserire il primo valore dell'angolo\n",
        "y = float(input())          # inserire il secondo valore dell'angolo\n",
        "z = float(input())          # inserire il terzo valore dell'angolo\n",
        "\n",
        "if x + y + z == 180:\n",
        "    if x == y == z:\n",
        "        print(\"Il triangolo è equiltero\")\n",
        "    if x == y or x == z or y == z:\n",
        "        print(\"Il triangolo è isoscele\")\n",
        "    if x == 90 or y == 90 or z == 90:\n",
        "        print(\"E' un triangolo rettangolo\")\n",
        "    if x != y and x != z and y != z:\n",
        "        print(\"Il triangolo è scaleno\")\n",
        "else:\n",
        "    print(\"Non è un triangolo\")\n"
      ]
    },
    {
      "cell_type": "markdown",
      "metadata": {
        "id": "ef5snVxLqeQh"
      },
      "source": [
        "# Esercizi WHILE\n"
      ]
    },
    {
      "cell_type": "code",
      "execution_count": 31,
      "metadata": {
        "id": "j61RqiHxqdmh"
      },
      "outputs": [
        {
          "name": "stdout",
          "output_type": "stream",
          "text": [
            "Inserisci un numero:  7\n",
            "Inserisci il numero di volte che vuoi ripeterlo:  5\n",
            "7\n",
            "7\n",
            "7\n",
            "7\n",
            "7\n"
          ]
        }
      ],
      "source": [
        "# Es 4.7: Creare una funzione print_n(n,v) che stampi n volte il contenuto di v\n",
        "n = int(input())        # valore inserito dall'utente\n",
        "v = int(input())\n",
        "\n",
        "def print_n(n,v):       # funzione print_n(n,v)\n",
        "    m = 0               # contatore del ciclo while\n",
        "    while m < n:\n",
        "        print(v)\n",
        "        m = m + 1\n",
        "\n",
        "print(\"Inserisci un numero: \", v)\n",
        "print(\"Inserisci il numero di volte che vuoi ripeterlo: \", n)\n",
        "print_n(n,v)            # richiamo della funzione\n"
      ]
    },
    {
      "cell_type": "code",
      "execution_count": 35,
      "metadata": {
        "colab": {
          "base_uri": "https://localhost:8080/"
        },
        "id": "-6lAm-hfq9w9",
        "outputId": "399e82ba-3cfe-475f-f8df-0e156677ec75"
      },
      "outputs": [
        {
          "name": "stdout",
          "output_type": "stream",
          "text": [
            "Inserisci un numero intero:  124\n",
            "Il numero  124  è divisibile per: \n",
            "1\n",
            "2\n",
            "4\n",
            "31\n",
            "62\n"
          ]
        }
      ],
      "source": [
        "# Es 4.8: Inserito il numero n dire per quali numeri, compresi tra 1 e n, è divisibile.\n",
        "# Inserisco 10: stampo 1,2,5\n",
        "# Inserisco 7: stampo 1\n",
        "n = int(input())        # numero inserito dall'utente\n",
        "m = 1                   # contatore ciclo while\n",
        "\n",
        "print(\"Inserisci un numero intero: \", n)\n",
        "print(\"Il numero \", n, \" è divisibile per: \")\n",
        "\n",
        "while m <= n/2:\n",
        "    if n % m == 0:\n",
        "        print(m)\n",
        "        m = m + 1\n",
        "    else:\n",
        "        m = m + 1    \n",
        "        "
      ]
    },
    {
      "cell_type": "code",
      "execution_count": 43,
      "metadata": {
        "colab": {
          "base_uri": "https://localhost:8080/"
        },
        "id": "GjC4LdR7rP-b",
        "outputId": "9f539b4d-c307-479a-da13-610a7e1cc46e"
      },
      "outputs": [
        {
          "name": "stdout",
          "output_type": "stream",
          "text": [
            "Inserisci un numero intero:  7\n",
            "Il numero  7  è primo\n",
            "Il numero  7  è primo\n",
            "Il numero  7  è primo\n",
            "Il numero  7  è primo\n",
            "Il numero  7  è primo\n"
          ]
        }
      ],
      "source": [
        "# Es 4.9: Inserito il numero n dire se è primo o no\n",
        "n = int(input())        # numero inserito dall'utente\n",
        "m = 2                   # contatore ciclo while\n",
        "\n",
        "print(\"Inserisci un numero intero: \", n)\n",
        "\n",
        "while m < n:\n",
        "    if n % m == 0:\n",
        "        print(\"Il numero \", n,\" non è primo\")\n",
        "        break \n",
        "    else:\n",
        "        m = m + 1\n",
        "        print(\"Il numero \", n, \" è primo\") \n",
        "\n",
        "        "
      ]
    },
    {
      "cell_type": "code",
      "execution_count": 49,
      "metadata": {
        "colab": {
          "base_uri": "https://localhost:8080/"
        },
        "id": "CxtWnOdHsTv4",
        "outputId": "5d874410-cb07-46a2-9c22-83d541b7a91a"
      },
      "outputs": [
        {
          "name": "stdout",
          "output_type": "stream",
          "text": [
            "Inserisci un numero:  4.0\n",
            "Quante volte vuoi moltiplicarlo?  3\n",
            "Il risultato della moltiplicazione  4.0 * 3  è uguale a: \n"
          ]
        },
        {
          "ename": "KeyboardInterrupt",
          "evalue": "",
          "output_type": "error",
          "traceback": [
            "\u001b[0;31m---------------------------------------------------------------------------\u001b[0m",
            "\u001b[0;31mKeyboardInterrupt\u001b[0m                         Traceback (most recent call last)",
            "\u001b[1;32m/workspaces/eserciziphyton/esercizi/if_e_while.ipynb Cella 12\u001b[0m line \u001b[0;36m1\n\u001b[1;32m     <a href='vscode-notebook-cell://codespaces%2Bcautious-acorn-979vwx5qgxj439vj4/workspaces/eserciziphyton/esercizi/if_e_while.ipynb#X14sdnNjb2RlLXJlbW90ZQ%3D%3D?line=13'>14</a>\u001b[0m \u001b[39mprint\u001b[39m(\u001b[39m\"\u001b[39m\u001b[39mQuante volte vuoi moltiplicarlo? \u001b[39m\u001b[39m\"\u001b[39m, v)\n\u001b[1;32m     <a href='vscode-notebook-cell://codespaces%2Bcautious-acorn-979vwx5qgxj439vj4/workspaces/eserciziphyton/esercizi/if_e_while.ipynb#X14sdnNjb2RlLXJlbW90ZQ%3D%3D?line=14'>15</a>\u001b[0m \u001b[39mprint\u001b[39m(\u001b[39m\"\u001b[39m\u001b[39mIl risultato della moltiplicazione \u001b[39m\u001b[39m\"\u001b[39m, n, \u001b[39m\"\u001b[39m\u001b[39m*\u001b[39m\u001b[39m\"\u001b[39m, v, \u001b[39m\"\u001b[39m\u001b[39m è uguale a: \u001b[39m\u001b[39m\"\u001b[39m)\n\u001b[0;32m---> <a href='vscode-notebook-cell://codespaces%2Bcautious-acorn-979vwx5qgxj439vj4/workspaces/eserciziphyton/esercizi/if_e_while.ipynb#X14sdnNjb2RlLXJlbW90ZQ%3D%3D?line=15'>16</a>\u001b[0m moltiplicazione(n, v)\n",
            "\u001b[1;32m/workspaces/eserciziphyton/esercizi/if_e_while.ipynb Cella 12\u001b[0m line \u001b[0;36m9\n\u001b[1;32m      <a href='vscode-notebook-cell://codespaces%2Bcautious-acorn-979vwx5qgxj439vj4/workspaces/eserciziphyton/esercizi/if_e_while.ipynb#X14sdnNjb2RlLXJlbW90ZQ%3D%3D?line=6'>7</a>\u001b[0m tot \u001b[39m=\u001b[39m \u001b[39m0\u001b[39m\n\u001b[1;32m      <a href='vscode-notebook-cell://codespaces%2Bcautious-acorn-979vwx5qgxj439vj4/workspaces/eserciziphyton/esercizi/if_e_while.ipynb#X14sdnNjb2RlLXJlbW90ZQ%3D%3D?line=7'>8</a>\u001b[0m m \u001b[39m=\u001b[39m \u001b[39m0\u001b[39m\n\u001b[0;32m----> <a href='vscode-notebook-cell://codespaces%2Bcautious-acorn-979vwx5qgxj439vj4/workspaces/eserciziphyton/esercizi/if_e_while.ipynb#X14sdnNjb2RlLXJlbW90ZQ%3D%3D?line=8'>9</a>\u001b[0m \u001b[39mwhile\u001b[39;00m m \u001b[39m<\u001b[39m v:\n\u001b[1;32m     <a href='vscode-notebook-cell://codespaces%2Bcautious-acorn-979vwx5qgxj439vj4/workspaces/eserciziphyton/esercizi/if_e_while.ipynb#X14sdnNjb2RlLXJlbW90ZQ%3D%3D?line=9'>10</a>\u001b[0m     tot \u001b[39m=\u001b[39m tot \u001b[39m+\u001b[39m n\n\u001b[1;32m     <a href='vscode-notebook-cell://codespaces%2Bcautious-acorn-979vwx5qgxj439vj4/workspaces/eserciziphyton/esercizi/if_e_while.ipynb#X14sdnNjb2RlLXJlbW90ZQ%3D%3D?line=10'>11</a>\u001b[0m \u001b[39mreturn\u001b[39;00m tot\n",
            "\u001b[0;31mKeyboardInterrupt\u001b[0m: "
          ]
        }
      ],
      "source": [
        "# Es 4.10: Creare la funzione moltiplica che restituisce il prodotto tra due numeri senza utilizzare *\n",
        "# 3*4 è uguale a 4+4+4\n",
        "n = float(input())        # numero inserito dall'utente\n",
        "v = int(input())          # numero inserito dall'utente\n",
        "\n",
        "def moltiplicazione(n, v):\n",
        "    tot = 0\n",
        "    m = 0\n",
        "    while m < v:\n",
        "        tot = tot + n\n",
        "    return tot\n",
        "\n",
        "print(\"Inserisci un numero: \", n)\n",
        "print(\"Quante volte vuoi moltiplicarlo? \", v)\n",
        "print(\"Il risultato della moltiplicazione \", n, \"*\", v, \" è uguale a: \")\n",
        "moltiplicazione(n, v)"
      ]
    }
  ],
  "metadata": {
    "colab": {
      "provenance": []
    },
    "kernelspec": {
      "display_name": "Python 3",
      "name": "python3"
    },
    "language_info": {
      "codemirror_mode": {
        "name": "ipython",
        "version": 3
      },
      "file_extension": ".py",
      "mimetype": "text/x-python",
      "name": "python",
      "nbconvert_exporter": "python",
      "pygments_lexer": "ipython3",
      "version": "3.10.8"
    }
  },
  "nbformat": 4,
  "nbformat_minor": 0
}
