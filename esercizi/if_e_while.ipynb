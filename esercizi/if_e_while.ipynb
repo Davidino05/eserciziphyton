{
  "cells": [
    {
      "cell_type": "markdown",
      "metadata": {
        "id": "HB3XbPDcSqe1"
      },
      "source": [
        "# Esercizi IF"
      ]
    },
    {
      "cell_type": "code",
      "execution_count": 2,
      "metadata": {
        "id": "0U7L9A29RfeT"
      },
      "outputs": [
        {
          "name": "stdout",
          "output_type": "stream",
          "text": [
            "Dispari\n"
          ]
        }
      ],
      "source": [
        "# Es 4.1: Ottenere dall'utente un numero in input e scrivere a schermo \"Pari\" se il numero è pari, scrivere \"Dispari\" altrimenti\n",
        "x = int(input(\"Inserisci un numero: \"))             # inserire il valore di x come intero\n",
        "if x % 2 == 0:\n",
        "    print(\"Pari\")\n",
        "if x % 2 != 0:\n",
        "    print(\"Dispari\") "
      ]
    },
    {
      "cell_type": "code",
      "execution_count": 4,
      "metadata": {
        "id": "gE3RVr9ORuwP"
      },
      "outputs": [
        {
          "name": "stdout",
          "output_type": "stream",
          "text": [
            "E' un triangolo\n"
          ]
        }
      ],
      "source": [
        "# Es 4.2: Ottenere dall'utente tre angoli caso siano i tre angoli di un triangolo scrivere a schermo \"È un triangolo\", altrimenti \"Non è un triangolo\"\n",
        "x = float(input(\"Inserisci un angolo: \"))          # inserire il primo valore dell'angolo\n",
        "y = float(input(\"Inserisci un angolo: \"))          # inserire il secondo valore dell'angolo\n",
        "z = float(input(\"Inserisci un angolo: \"))          # inserire il terzo valore dell'angolo\n",
        "\n",
        "if x + y + z == 180:\n",
        "    print(\"E' un triangolo\")\n",
        "else:\n",
        "    print(\"Non è un triangolo\")"
      ]
    },
    {
      "cell_type": "code",
      "execution_count": 7,
      "metadata": {
        "id": "r1A_DavcSKgi"
      },
      "outputs": [
        {
          "name": "stdout",
          "output_type": "stream",
          "text": [
            "E' un triangolo rettangolo\n"
          ]
        }
      ],
      "source": [
        "# Es 4.3: Ottenuti dall'utente tre angoli di un triangolo scrivere a schermo se i tre angoli descrivono un triangolo rettangolo o no\n",
        "x = float(input(\"Inserisci un angolo: \"))          # inserire il primo valore dell'angolo\n",
        "y = float(input(\"Inserisci un angolo: \"))          # inserire il secondo valore dell'angolo\n",
        "z = float(input(\"Inserisci un angolo: \"))          # inserire il terzo valore dell'angolo\n",
        "\n",
        "if x + y + z == 180:\n",
        "    if x == 90 or y == 90 or z == 90:\n",
        "        print(\"E' un triangolo rettangolo\")\n",
        "    else:\n",
        "        print(\"Non è un triangolo rettangolo\")\n",
        "else:\n",
        "    print(\"Non è un triangolo\")"
      ]
    },
    {
      "cell_type": "code",
      "execution_count": 11,
      "metadata": {
        "id": "iA9D4X_GSims"
      },
      "outputs": [
        {
          "name": "stdout",
          "output_type": "stream",
          "text": [
            "Il triangolo è equiltero\n"
          ]
        }
      ],
      "source": [
        "# Es 4.4: Ottenuti dall'utente tre angoli di un triangolo scrivere a schermo se i tre angoli descrivono un triangolo equilatero o no\n",
        "x = float(input(\"Inserisci un angolo: \"))          # inserire il primo valore dell'angolo\n",
        "y = float(input(\"Inserisci un angolo: \"))          # inserire il secondo valore dell'angolo\n",
        "z = float(input(\"Inserisci un angolo: \"))          # inserire il terzo valore dell'angolo\n",
        "\n",
        "if x + y + z == 180:\n",
        "    if x == y and x == z:\n",
        "        print(\"Il triangolo è equiltero\")\n",
        "    else:\n",
        "        print(\"Non è un triangolo equilatero\")\n",
        "else:\n",
        "    print(\"Non è un triangolo\")"
      ]
    },
    {
      "cell_type": "code",
      "execution_count": 7,
      "metadata": {
        "id": "8q4gadoTSU7J"
      },
      "outputs": [
        {
          "name": "stdout",
          "output_type": "stream",
          "text": [
            "Il triangolo è isoscele\n"
          ]
        }
      ],
      "source": [
        "# Es 4.5: Ottenuti dall'utente tre angoli di un triangolo scrivere a schermo se i tre angoli descrivono un triangolo isocele o no\n",
        "x = float(input(\"Inserisci un angolo: \"))          # inserire il primo valore dell'angolo\n",
        "y = float(input(\"Inserisci un angolo: \"))          # inserire il secondo valore dell'angolo\n",
        "z = float(input(\"Inserisci un angolo: \"))          # inserire il terzo valore dell'angolo\n",
        "\n",
        "if x + y + z == 180:\n",
        "    if x == y and x == z:\n",
        "        print(\"Il triangolo è equilatero\")\n",
        "    elif x == y or x == z or y == z:\n",
        "        print(\"Il triangolo è isoscele\")\n",
        "    else:\n",
        "        print(\"Il triangolo non è isoscele\")\n",
        "else:\n",
        "    print(\"Non è un triangolo\")"
      ]
    },
    {
      "cell_type": "code",
      "execution_count": 21,
      "metadata": {
        "id": "yVIE2kK3SYlq"
      },
      "outputs": [
        {
          "name": "stdout",
          "output_type": "stream",
          "text": [
            "Il triangolo è scaleno\n"
          ]
        }
      ],
      "source": [
        "# Es 4.6: Ottenuti dall'utente tre angoli di un triangolo scrivere a schermo se i tre angoli descrivono un triangolo isocele, rettagolo, equilatero o scaleno\n",
        "x = float(input(\"Inserisci un angolo: \"))          # inserire il primo valore dell'angolo\n",
        "y = float(input(\"Inserisci un angolo: \"))          # inserire il secondo valore dell'angolo\n",
        "z = float(input(\"Inserisci un angolo: \"))          # inserire il terzo valore dell'angolo\n",
        "\n",
        "if x + y + z == 180:\n",
        "    if x == y == z:\n",
        "        print(\"Il triangolo è equiltero\")\n",
        "    if x == y or x == z or y == z:\n",
        "        print(\"Il triangolo è isoscele\")\n",
        "    if x == 90 or y == 90 or z == 90:\n",
        "        print(\"E' un triangolo rettangolo\")\n",
        "    if x != y and x != z and y != z:\n",
        "        print(\"Il triangolo è scaleno\")\n",
        "else:\n",
        "    print(\"Non è un triangolo\")\n"
      ]
    },
    {
      "cell_type": "markdown",
      "metadata": {
        "id": "ef5snVxLqeQh"
      },
      "source": [
        "# Esercizi WHILE\n"
      ]
    },
    {
      "cell_type": "code",
      "execution_count": 8,
      "metadata": {
        "id": "j61RqiHxqdmh"
      },
      "outputs": [
        {
          "name": "stdout",
          "output_type": "stream",
          "text": [
            "4\n",
            "4\n",
            "4\n",
            "4\n",
            "4\n",
            "4\n",
            "4\n",
            "4\n"
          ]
        }
      ],
      "source": [
        "# Es 4.7: Creare una funzione print_n(n,v) che stampi n volte il contenuto di v\n",
        "v = int(input(\"Inserisci un numero: \"))\n",
        "n = int(input(\"Inserisci il numero di volte che vuoi ripeterlo: \"))        # valore inserito dall'utente\n",
        "\n",
        "def print_n(n,v):       # funzione print_n(n,v)\n",
        "    m = 0               # contatore del ciclo while\n",
        "    while m < n:\n",
        "        print(v)\n",
        "        m = m + 1\n",
        "\n",
        "print_n(n,v)            # richiamo della funzione\n"
      ]
    },
    {
      "cell_type": "code",
      "execution_count": 10,
      "metadata": {
        "colab": {
          "base_uri": "https://localhost:8080/"
        },
        "id": "-6lAm-hfq9w9",
        "outputId": "399e82ba-3cfe-475f-f8df-0e156677ec75"
      },
      "outputs": [
        {
          "name": "stdout",
          "output_type": "stream",
          "text": [
            "Il numero  100023  è divisibile per: \n",
            "1\n",
            "3\n",
            "7\n",
            "11\n",
            "21\n",
            "33\n",
            "77\n",
            "231\n",
            "433\n",
            "1299\n",
            "3031\n",
            "4763\n",
            "9093\n",
            "14289\n",
            "33341\n"
          ]
        }
      ],
      "source": [
        "# Es 4.8: Inserito il numero n dire per quali numeri, compresi tra 1 e n, è divisibile.\n",
        "# Inserisco 10: stampo 1,2,5\n",
        "# Inserisco 7: stampo 1\n",
        "n = int(input(\"Inserisci un numero intero: \"))        # numero inserito dall'utente\n",
        "m = 1                                                 # contatore ciclo while\n",
        "\n",
        "print(\"Il numero \", n, \" è divisibile per: \")\n",
        "\n",
        "while m <= n/2:\n",
        "    if n % m == 0:\n",
        "        print(m)\n",
        "    m = m + 1  "
      ]
    },
    {
      "cell_type": "code",
      "execution_count": 14,
      "metadata": {
        "colab": {
          "base_uri": "https://localhost:8080/"
        },
        "id": "GjC4LdR7rP-b",
        "outputId": "9f539b4d-c307-479a-da13-610a7e1cc46e"
      },
      "outputs": [
        {
          "name": "stdout",
          "output_type": "stream",
          "text": [
            "Il numero  8  non è primo\n"
          ]
        }
      ],
      "source": [
        "# Es 4.9: Inserito il numero n dire se è primo o no\n",
        "n = int(input(\"Inserisci un numero intero: \"))        # numero inserito dall'utente\n",
        "m = 2                                                 # contatore ciclo while\n",
        "primo = True                                          # variabile booleana\n",
        "\n",
        "while m < n:\n",
        "    if n % m == 0:\n",
        "        primo = False\n",
        "        m = m + 1\n",
        "    else:\n",
        "        m = m + 1\n",
        "\n",
        "if primo == False:\n",
        "    print(\"Il numero \", n, \" non è primo\")\n",
        "else:\n",
        "    print(\"Il numero \", n, \" è primo\") \n",
        "\n",
        "        "
      ]
    },
    {
      "cell_type": "code",
      "execution_count": 15,
      "metadata": {
        "colab": {
          "base_uri": "https://localhost:8080/"
        },
        "id": "CxtWnOdHsTv4",
        "outputId": "5d874410-cb07-46a2-9c22-83d541b7a91a"
      },
      "outputs": [
        {
          "name": "stdout",
          "output_type": "stream",
          "text": [
            "Il risultato della moltiplicazione  8.0 * 9  è uguale a: \n",
            "72.0\n"
          ]
        }
      ],
      "source": [
        "# Es 4.10: Creare la funzione moltiplica che restituisce il prodotto tra due numeri senza utilizzare *\n",
        "# 3*4 è uguale a 4+4+4\n",
        "n = float(input(\"Inserisci un numero: \"))                    # numero inserito dall'utente\n",
        "v = int(input(\"Quante volte vuoi moltiplicarlo? \"))          # numero inserito dall'utente\n",
        "\n",
        "def moltiplicazione(n, v):\n",
        "    tot = 0\n",
        "    m = 0\n",
        "    while m < v:\n",
        "        tot = tot + n\n",
        "        m = m + 1\n",
        "    print(tot)\n",
        "\n",
        "print(\"Il risultato della moltiplicazione \", n, \"*\", v, \" è uguale a: \")\n",
        "moltiplicazione(n, v)"
      ]
    }
  ],
  "metadata": {
    "colab": {
      "provenance": []
    },
    "kernelspec": {
      "display_name": "Python 3",
      "name": "python3"
    },
    "language_info": {
      "codemirror_mode": {
        "name": "ipython",
        "version": 3
      },
      "file_extension": ".py",
      "mimetype": "text/x-python",
      "name": "python",
      "nbconvert_exporter": "python",
      "pygments_lexer": "ipython3",
      "version": "3.10.8"
    }
  },
  "nbformat": 4,
  "nbformat_minor": 0
}
