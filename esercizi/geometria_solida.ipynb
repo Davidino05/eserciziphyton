{
  "cells": [
    {
      "cell_type": "markdown",
      "metadata": {
        "id": "inJF5uifNBg0"
      },
      "source": [
        "# Esercizi"
      ]
    },
    {
      "cell_type": "code",
      "execution_count": 30,
      "metadata": {
        "id": "EFiuNikwM8hY"
      },
      "outputs": [
        {
          "name": "stdout",
          "output_type": "stream",
          "text": [
            "            * - - - - - - - - - - - * \n",
            "          / |                     / | \n",
            "        /   |                   /   | \n",
            "      /     |                 /     | \n",
            "    /       |               /       | \n",
            "  /         |             /         | \n",
            "* - - - - - - - - - - - *           | \n",
            "|           |           |           | \n",
            "|           |           |           | \n",
            "|           |           |           | \n",
            "|           |           |           | \n",
            "|           |           |           | \n",
            "|           * - - - - - | - - - - - * \n",
            "|         /             |         /   \n",
            "|       /               |       /     \n",
            "|     /                 |     /       \n",
            "|   /                   |   /         \n",
            "| /                     | /           \n",
            "* - - - - - - - - - - - *             \n"
          ]
        }
      ],
      "source": [
        "# Es 7.1: Scrivi la funzione cubo(n) che stampi a schermo un quadrato di lato nxn formato utilizzando il carattere *\n",
        "#         Esempio:                       8 ->        * - - - - - - *     2 ->   * *\n",
        "#                                                  / |           / |          * * *\n",
        "#                                                /   |         /   |          * *\n",
        "#                                              /     |       /     |\n",
        "#                                            * - - - - - - *       |\n",
        "#                                            |       |     |       |\n",
        "#                                            |       |     |       |\n",
        "#                                            |       * - - | - - - *\n",
        "#                                            |     /       |     /\n",
        "#                                            |   /         |   /\n",
        "#                                            | /           | /\n",
        "#                                            * - - - - - - *\n",
        "\n",
        "n = int(input(\"Inserisci il lato del tuo cubo: \"))        # numero inserito dall'utente\n",
        "\n",
        "def cubo(n):               # funzione cubo di lato n\n",
        "    if n > 0:\n",
        "        if n % 2 == 0:\n",
        "            m = n + n // 2                                  # utilizzo // perché senno segna errore la divisione\n",
        "        else:\n",
        "            m = n + (n - 1) // 2                            \n",
        "        for y in range(m):                                  # identifica la riga del cubo\n",
        "            for x in range(m):                              # identifica la colonna del cubo\n",
        "                if x == n // 2 and y == 0 or y == 0 and x == m - 1 or y == n // 2 and x == 0  or y == n // 2 and x == n - 1 or y == n - 1 and x == n // 2 or y == n - 1 and x == m - 1 or y == m - 1 and x == 0 or y == m - 1 and x == n - 1:\n",
        "                    print(\"*\", end= \" \")\n",
        "                elif x < n // 2 and y == 0 or n - 1 < x <= m -1 and y == m - 1:                                                 # condizioni limitatorie della stampa \"-\" 1,3 ben visibili\n",
        "                    print(\" \", end= \" \")\n",
        "                elif y == 0 or y == m - 1:                                                                                      # mi identifica i \"-\" 1,3 della figura ben visibili\n",
        "                    print(\"-\", end= \" \")\n",
        "                elif x == 0 and 0 <= y < n // 2 or x == n - 1 and 0 <= y < n // 2 or x == m - 1 and n - 1 < y < m - 1:          # condizioni limitatorie della stampa \"|\" ben visibili\n",
        "                    print(\" \", end= \" \")\n",
        "                elif x == 0 or x == n - 1 or x == m - 1:                                                                        # mi identifica i \"|\" della figura ben visibili\n",
        "                     print(\"|\", end= \" \")\n",
        "                elif y > n - 1 and x == n // 2:                                                                                 # condizioni limitatorie della stampa \"|\" non ben visibile\n",
        "                    print(\" \", end= \" \")\n",
        "                elif n - 1 < x < m - 1 and y == n // 2:                                                                         # condizioni limitatorie della stampa \"-\" 2 ben visibili\n",
        "                    print(\" \", end= \" \")\n",
        "                elif y == n // 2 or y == m - 1:                                                                                 # mi identifica i \"-\" 2 della figura ben visibili\n",
        "                    print(\"-\", end= \" \")\n",
        "                elif x == n // 2 or x == m - 1:                                                                                 # mi identifica i \"|\" della figura non ben visibili\n",
        "                        print(\"|\", end= \" \")\n",
        "                elif 0 < x < n // 2 and y == n - 1 :                                                                            # condizioni limitatorie della stampa \"-\" non ben visibile\n",
        "                    print(\" \", end= \" \")\n",
        "                elif y == n - 1:                                                                                                # mi identifica i \"-\" della figura non ben visibile\n",
        "                    print(\"-\", end= \" \")\n",
        "                elif n // 2 < y < n - 1 and n // 2 < x < n - 1:                                                                 # condizioni limitatorie della stampa \"/\"\n",
        "                    print(\" \", end= \" \")                                                \n",
        "                elif x + y == n // 2 or x + y == m - 1 or x + y == (m - 1) + (n - 1):                                           # mi identifica i \"/\" della figura\n",
        "                        print(\"/\", end= \" \")           \n",
        "                else:\n",
        "                    print(\" \", end= \" \")\n",
        "            print(\"\\n\", end= \"\")\n",
        "    else:\n",
        "        print(\"Non esiste un cubo con lato negativo!\")\n",
        "        \n",
        "cubo(n)\n"
      ]
    },
    {
      "cell_type": "code",
      "execution_count": null,
      "metadata": {},
      "outputs": [],
      "source": []
    }
  ],
  "metadata": {
    "colab": {
      "provenance": []
    },
    "kernelspec": {
      "display_name": "Python 3",
      "name": "python3"
    },
    "language_info": {
      "codemirror_mode": {
        "name": "ipython",
        "version": 3
      },
      "file_extension": ".py",
      "mimetype": "text/x-python",
      "name": "python",
      "nbconvert_exporter": "python",
      "pygments_lexer": "ipython3",
      "version": "3.10.8"
    }
  },
  "nbformat": 4,
  "nbformat_minor": 0
}
