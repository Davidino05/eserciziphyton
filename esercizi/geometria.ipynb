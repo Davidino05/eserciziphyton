{
  "cells": [
    {
      "cell_type": "markdown",
      "metadata": {
        "id": "HB3XbPDcSqe1"
      },
      "source": [
        "# Esercizi Geometrici"
      ]
    },
    {
      "cell_type": "markdown",
      "metadata": {
        "id": "LCcywn6v2KxD"
      },
      "source": [
        "In Python per stampare consecutivamente più parole senza creare una riga per ognuna bisogna usare il seguente codice:\n"
      ]
    },
    {
      "cell_type": "code",
      "execution_count": 7,
      "metadata": {
        "colab": {
          "base_uri": "https://localhost:8080/"
        },
        "id": "PHdyo8E42sza",
        "outputId": "fb51a75d-54ef-48c3-f6ad-342834d2738b"
      },
      "outputs": [
        {
          "name": "stdout",
          "output_type": "stream",
          "text": [
            "Parola 1 Parola 2.\n",
            "Parola 3\n"
          ]
        }
      ],
      "source": [
        "print(\"Parola 1\", end=\" \")\n",
        "print(\"Parola 2\", end=\".\\n\")\n",
        "print(\"Parola 3\")"
      ]
    },
    {
      "cell_type": "code",
      "execution_count": 11,
      "metadata": {
        "colab": {
          "base_uri": "https://localhost:8080/"
        },
        "id": "0U7L9A29RfeT",
        "outputId": "ccdd9b72-55df-486a-a68d-cfe73e90461d"
      },
      "outputs": [
        {
          "name": "stdout",
          "output_type": "stream",
          "text": [
            "* * * * * * * \n",
            "* * * * * * * \n",
            "* * * * * * * \n",
            "* * * * * * * \n",
            "* * * * * * * \n",
            "* * * * * * * \n",
            "* * * * * * * \n"
          ]
        }
      ],
      "source": [
        "# Es 6.1: Scrivi la funzione quadrato(n) che stampi a schermo un quadrato di lato nxn formato utilizzando il carattere *\n",
        "#         Esempio:    3 ->  * * *       4 ->  * * * *\n",
        "#                           * * *             * * * *\n",
        "#                           * * *             * * * *\n",
        "#                                             * * * *\n",
        "n = int(input(\"Inserisci il lato del tuo quadrato: \"))        # numero inserito dall'utente\n",
        "\n",
        "def quadrato(n):        # funzione quadrato nxn\n",
        "    if n > 0:\n",
        "        for b in range(n):\n",
        "            for c in range(n):\n",
        "                print(\"*\", end= \" \")\n",
        "            print(\"\\n\", end = \"\")\n",
        "    else:\n",
        "        print(\"Non esiste un quadrato nxn con numero negativo!\")\n",
        "\n",
        "quadrato(n)\n",
        "\n"
      ]
    },
    {
      "cell_type": "code",
      "execution_count": 12,
      "metadata": {
        "id": "gE3RVr9ORuwP"
      },
      "outputs": [
        {
          "name": "stdout",
          "output_type": "stream",
          "text": [
            "* * * * * * * * * * * * * * \n",
            "* * * * * * * * * * * * * * \n",
            "* * * * * * * * * * * * * * \n",
            "* * * * * * * * * * * * * * \n",
            "* * * * * * * * * * * * * * \n",
            "* * * * * * * * * * * * * * \n",
            "* * * * * * * * * * * * * * \n"
          ]
        }
      ],
      "source": [
        "# Es 6.2: Scrivi la funzione rettangolo(n) che stampi a schermo un rettangolo di lato nx2n formato utilizzando il carattere *\n",
        "#         Esempio:    3 ->  * * * * * *         4 ->  * * * * * * * *\n",
        "#                           * * * * * *               * * * * * * * *\n",
        "#                           * * * * * *               * * * * * * * *\n",
        "#                                                     * * * * * * * *\n",
        "\n",
        "n = int(input(\"Inserisci il lato del tuo rettangolo: \"))        # numero inserito dall'utente\n",
        "\n",
        "def rettangolo(n):        # funzione rettangolo nx2n\n",
        "    if n > 0:\n",
        "        for b in range(n):\n",
        "            for c in range(2*n):\n",
        "                print(\"*\", end= \" \")\n",
        "            print(\"\\n\", end = \"\")\n",
        "    else:\n",
        "        print(\"Non esiste un rettangolo nx2n con numero negativo!\")\n",
        "\n",
        "rettangolo(n)"
      ]
    },
    {
      "cell_type": "code",
      "execution_count": 10,
      "metadata": {
        "id": "r1A_DavcSKgi"
      },
      "outputs": [
        {
          "name": "stdout",
          "output_type": "stream",
          "text": [
            "* \n",
            "* * \n",
            "* * * \n",
            "* * * * \n",
            "* * * * * \n",
            "* * * * * * \n",
            "* * * * * * * \n"
          ]
        }
      ],
      "source": [
        "# Es 6.3: Scrivi la funzione triangolo_rettangolo(n) che stampi a schermo un triangolo di cateti n e n formato utilizzando il carattere *\n",
        "#         Esempio:    3 ->  *           4 ->  *\n",
        "#                           * *               * *\n",
        "#                           * * *             * * *\n",
        "#                                             * * * *\n",
        "\n",
        "n = int(input(\"Inserisci il cateto del tuo triangolo rettangolo: \"))        # numero inserito dall'utente\n",
        "\n",
        "def triangolo_rettangolo(n):        # funzione triangolo rettangolo di cateto n\n",
        "    if n > 0:\n",
        "        for b in range(n):          # identifica la colonna del triangolo\n",
        "            for c in range(b + 1):\n",
        "                print(\"*\", end= \" \")\n",
        "            print(\"\\n\", end = \"\")\n",
        "    else:\n",
        "        print(\"Non esiste un triangolo rettangolo con cateto negativo!\")\n",
        "\n",
        "triangolo_rettangolo(n)"
      ]
    },
    {
      "cell_type": "code",
      "execution_count": 9,
      "metadata": {
        "id": "iA9D4X_GSims"
      },
      "outputs": [
        {
          "name": "stdout",
          "output_type": "stream",
          "text": [
            "* * * * * * * \n",
            "*           * \n",
            "*           * \n",
            "*           * \n",
            "*           * \n",
            "*           * \n",
            "* * * * * * * \n"
          ]
        }
      ],
      "source": [
        "# Es 6.4: Scrivi la funzione bordo_quadrato(n) che stampi a schermo un quadrato di lato nxn formato utilizzando il carattere * come contorno\n",
        "#         Esempio:    3 ->  * * *       4 ->  * * * *\n",
        "#                           *   *             *     *\n",
        "#                           * * *             *     *\n",
        "#                                             * * * *\n",
        "\n",
        "n = int(input(\"Inserisci il valore del lato: \"))        # numero inserito dall'utente\n",
        "\n",
        "def bordo_quadrato(n):        # funzione bordo quadrato\n",
        "    if n > 0:\n",
        "        for verticale in range(n):                          # identifica la riga del quadrato\n",
        "            for orizzontale in range(n):                    # identifica la colonna del quadrato\n",
        "                if verticale == 0 or verticale == n - 1 or orizzontale == 0 or orizzontale == n - 1:\n",
        "                    print(\"*\", end= \" \")\n",
        "                else:\n",
        "                    print(\" \", end= \" \")\n",
        "            print(\"\")\n",
        "    else:\n",
        "        print(\"Non esiste un quadrato con lato negativo!\")\n",
        "        \n",
        "bordo_quadrato(n)"
      ]
    },
    {
      "cell_type": "code",
      "execution_count": 8,
      "metadata": {
        "colab": {
          "base_uri": "https://localhost:8080/"
        },
        "id": "1vlDMqo_4uNc",
        "outputId": "de4cc1b2-7110-4ad6-b86c-d67c5756c074"
      },
      "outputs": [
        {
          "name": "stdout",
          "output_type": "stream",
          "text": [
            "/ - - - - - \\ \n",
            "|           | \n",
            "|           | \n",
            "|           | \n",
            "|           | \n",
            "|           | \n",
            "\\ - - - - - / \n"
          ]
        }
      ],
      "source": [
        "# Es 6.5: Scrivi la funzione bordo_quadrato_bello(n) che stampi a schermo un quadrato di lato nxn formato utilizzando iseguenti caratteri:\n",
        "#         Esempio:    3 ->  / - \\       4 ->  / - - \\\n",
        "#                           |   |             |     |\n",
        "#                           \\ - /             |     |\n",
        "#                                             \\ - - /\n",
        "# Per stampare \\ dovete utilizzare \"\\\\\" ovvero print(\"\\\\\")\n",
        "\n",
        "n = int(input(\"Inserisci il valore del lato: \"))        # numero inserito dall'utente\n",
        "\n",
        "def bordo_quadrato_bello(n):        # funzione bordo quadrato bello\n",
        "    if n > 0:\n",
        "        for verticale in range(n):           # identifica la riga del quadrato\n",
        "            for orizzontale in range(n):     # identifica la colonna del quadrato\n",
        "                if verticale == 0 and orizzontale == 0 or verticale == n - 1 and orizzontale == n - 1:\n",
        "                    print(\"/\", end= \" \")\n",
        "                elif verticale == 0 and orizzontale == n - 1 or verticale == n - 1 and orizzontale == 0:\n",
        "                    print(\"\\\\\", end= \" \")\n",
        "                elif verticale == 0 or verticale == n - 1:\n",
        "                    print(\"-\", end= \" \")\n",
        "                elif orizzontale == 0 or orizzontale == n - 1:\n",
        "                    print(\"|\", end= \" \")\n",
        "                else:\n",
        "                    print(\" \", end= \" \")\n",
        "            print(\"\\n\", end= \"\")\n",
        "    else:\n",
        "        print(\"Non esiste un quadrato con lato negativo!\")\n",
        "\n",
        "bordo_quadrato_bello(n)\n"
      ]
    },
    {
      "cell_type": "code",
      "execution_count": 1,
      "metadata": {
        "id": "2E9Hk9kkv5Mx"
      },
      "outputs": [
        {
          "name": "stdout",
          "output_type": "stream",
          "text": [
            "^\\ \n",
            "| \\ \n",
            "|  \\ \n",
            "|   \\ \n",
            "|    \\ \n",
            "| ____\\ \n"
          ]
        }
      ],
      "source": [
        "# Es 6.6: Scrivi la funzione trianglo_bello(n) che stampi a schermo un triangolo di cateti n e n formato utilizzando i seguenti caratteri:\n",
        "#.   ^\\\n",
        "#    | \\\n",
        "#.   |  \\\n",
        "#.   |___\\\n",
        "\n",
        "n = int(input(\"Inserisci il cateto del tuo triangolo: \"))        # numero inserito dall'utente\n",
        "\n",
        "def triangolo_bello(n):             # funzione triangolo bello di cateto n\n",
        "    if n > 0:\n",
        "        for verticale in range(n):                      # identifica la riga del triangolo\n",
        "            for orizzontale in range(verticale + 1):    # identifica la colonna del triangolo\n",
        "                if verticale == 0 and orizzontale == 0:\n",
        "                    print(\"^\\\\\", end= \" \")\n",
        "                elif orizzontale == 0:\n",
        "                    print(\"|\", end= \" \")\n",
        "                elif verticale == orizzontale:\n",
        "                    print(\"\\\\\", end= \" \")\n",
        "                elif verticale == n - 1:\n",
        "                    print(\"_\", end= \"\")\n",
        "                else:\n",
        "                    print(\" \", end= \"\")\n",
        "            print(\"\\n\", end= \"\")       \n",
        "    else:\n",
        "        print(\"Non esiste un triangolo rettangolo con cateto negativo!\")\n",
        "\n",
        "triangolo_bello(n)"
      ]
    }
  ],
  "metadata": {
    "colab": {
      "provenance": []
    },
    "kernelspec": {
      "display_name": "Python 3",
      "name": "python3"
    },
    "language_info": {
      "codemirror_mode": {
        "name": "ipython",
        "version": 3
      },
      "file_extension": ".py",
      "mimetype": "text/x-python",
      "name": "python",
      "nbconvert_exporter": "python",
      "pygments_lexer": "ipython3",
      "version": "3.10.8"
    }
  },
  "nbformat": 4,
  "nbformat_minor": 0
}
