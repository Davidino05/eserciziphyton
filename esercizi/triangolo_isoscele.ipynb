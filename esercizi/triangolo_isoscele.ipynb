{
 "cells": [
  {
   "cell_type": "code",
   "execution_count": 36,
   "metadata": {},
   "outputs": [
    {
     "name": "stdout",
     "output_type": "stream",
     "text": [
      "          *         \n",
      "        * * *       \n",
      "      *   *   *     \n",
      "    *     *     *   \n",
      "  *       *       * \n"
     ]
    }
   ],
   "source": [
    "# Scrivi la funzione triangolo_isoscele(n) che stampi a schermo un triangolo di cateti n e n formato utilizzando il carattere *\n",
    "#           Esempio:    4 ->  *                    5 ->  *\n",
    "#                           * * *                      * * *\n",
    "#                         * * * * *                  * * * * *\n",
    "#                       * * * * * * *              * * * * * * *\n",
    "#                                                * * * * * * * * *\n",
    "\n",
    "n = int(input(\"Inserisci il valore del lato del triangolo isoscele: \"))  # valore del lato inserito dall'utente\n",
    "\n",
    "def triangolo_isoscele(n):\n",
    "    a = 0                                                                # variabile intera contatore\n",
    "    if n > 0:\n",
    "        for y in range(n):                                                   # perché l'altezza del triangolo è uguale ad n\n",
    "            for x in range(n * 2):                                           # perché la base del triangolo è uguale ad n * 2\n",
    "                if x == n or x == n + a or x == n - a:\n",
    "                    print(\"*\", end= \" \")\n",
    "                else:\n",
    "                    print(\" \", end= \" \")\n",
    "            a = a + 1\n",
    "            print(\"\")\n",
    "    else:\n",
    "        print(\"Non esiste un triangolo isoscele con lato negativo\")\n",
    "triangolo_isoscele(n)"
   ]
  },
  {
   "cell_type": "code",
   "execution_count": 3,
   "metadata": {},
   "outputs": [
    {
     "name": "stdout",
     "output_type": "stream",
     "text": [
      "                          * \n",
      "                        * * * \n",
      "                      * * * * * \n",
      "                    * * * * * * * \n",
      "                  * * * * * * * * * \n",
      "                * * * * * * * * * * * \n",
      "              * * * * * * * * * * * * * \n",
      "            * * * * * * * * * * * * * * * \n",
      "          * * * * * * * * * * * * * * * * * \n",
      "        * * * * * * * * * * * * * * * * * * * \n",
      "      * * * * * * * * * * * * * * * * * * * * * \n",
      "    * * * * * * * * * * * * * * * * * * * * * * * \n",
      "  * * * * * * * * * * * * * * * * * * * * * * * * * \n",
      "* * * * * * * * * * * * * * * * * * * * * * * * * * * \n"
     ]
    }
   ],
   "source": [
    "# Scrivi la funzione triangolo_isoscele(n) che stampi a schermo un triangolo di cateti n e n formato utilizzando il carattere *\n",
    "#           Esempio:    4 ->  *                    5 ->  *\n",
    "#                           * * *                      * * *\n",
    "#                         * * * * *                  * * * * *\n",
    "#                       * * * * * * *              * * * * * * *\n",
    "#                                                * * * * * * * * *\n",
    "\n",
    "n = int(input(\"Inserisci il valore del lato del triangolo isoscele: \"))  # valore del lato inserito dall'utente\n",
    "\n",
    "def triangolo_isoscele(n):\n",
    "    a = n - 1                                                                # variabile intera contatore\n",
    "    b = 1\n",
    "    if n > 0:\n",
    "        for aletezza in range(n):                                            # perché l'altezza del triangolo è uguale ad n\n",
    "            for spazi in range(a):                                           # perché la base del triangolo è uguale ad n * 2\n",
    "                print(\" \", end= \" \")\n",
    "            for triangolo in range(b):\n",
    "                print(\"*\", end= \" \")\n",
    "            a = a - 1\n",
    "            b = b + 2\n",
    "            print(\"\")\n",
    "    else:\n",
    "        print(\"Non esiste un triangolo isoscele con lato negativo\")\n",
    "triangolo_isoscele(n)"
   ]
  }
 ],
 "metadata": {
  "kernelspec": {
   "display_name": "Python 3",
   "language": "python",
   "name": "python3"
  },
  "language_info": {
   "codemirror_mode": {
    "name": "ipython",
    "version": 3
   },
   "file_extension": ".py",
   "mimetype": "text/x-python",
   "name": "python",
   "nbconvert_exporter": "python",
   "pygments_lexer": "ipython3",
   "version": "3.10.8"
  }
 },
 "nbformat": 4,
 "nbformat_minor": 2
}
